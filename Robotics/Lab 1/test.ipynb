{
 "cells": [
  {
   "cell_type": "code",
   "execution_count": 235,
   "metadata": {},
   "outputs": [],
   "source": [
    "from typing import Any, List\n",
    "import cv2 as cv\n",
    "import numpy as np\n"
   ]
  },
  {
   "cell_type": "code",
   "execution_count": 236,
   "metadata": {},
   "outputs": [],
   "source": [
    "class Robot:\n",
    "    def __init__(self):\n",
    "        self.x = -1\n",
    "        self.y = -1\n",
    "        self.theta = -1\n",
    "        self.reduis_size = 15\n",
    "        self.color = (0, 0, 255)\n",
    "        self.thickness = -1\n",
    "        self.border = 3\n",
    "        self.border_color = (0, 0, 0)\n",
    "\n",
    "    def draw(self, test_map: Any):\n",
    "        test_map_rgb = cv.cvtColor(test_map, cv.COLOR_GRAY2RGB)\n",
    "        cv.circle(test_map_rgb, (self.x, self.y), self.reduis_size, self.color, self.thickness)\n",
    "        cv.circle(test_map_rgb, (self.x, self.y), self.reduis_size, self.border_color, self.border)\n",
    "        cv.line(test_map_rgb, (self.x, self.y), self.move(self.reduis_size * 2, self.theta, self.x, self.y), self.border_color, 2)\n",
    "        return test_map_rgb\n",
    "\n",
    "    def  move(self, step: int, angle: int, start_x: int, start_y: int):\n",
    "        x_new = start_x + step * np.cos(angle * np.pi / 180)\n",
    "        y_new = start_y + step * np.sin(angle * np.pi / 180)\n",
    "        return int(x_new), int(y_new)\n",
    "    \n",
    "    def check_robot_collision(self, test_map: Any, pose_x_test: int, pose_y_test: int):\n",
    "        boundary = int(self.size / 2)\n",
    "        for i in range(self.x - boundary, self.x + boundary):\n",
    "            for j in range(self.y - boundary, self.y - boundary):\n",
    "                if j >= len(test_map) or i >= len(test_map[0]) or test_map[j][i] == 0:\n",
    "                    return None\n",
    "        return pose_x_test, pose_y_test\n",
    "\n",
    "    def allowed_points(self, test_map: Any):\n",
    "        for x in range(0, len(test_map[0])):\n",
    "            for y in range(0, len(test_map)):\n",
    "                pose = self.check_robot_collision(test_map, x, y)\n",
    "                if pose is not None:\n",
    "                    print(x, y)"
   ]
  },
  {
   "cell_type": "code",
   "execution_count": 237,
   "metadata": {},
   "outputs": [],
   "source": [
    "class Sensor:\n",
    "    def __init__(self):\n",
    "        self.sensor_angle = 250\n",
    "        self.sensor_resolution = 2\n",
    "        self.max_range = 1200 / 4\n",
    "        self.z = []\n",
    "\n",
    "    def sense_destance(self, pose_x_test: int, pose_y_test: int, robot: Robot):\n",
    "        return np.sqrt((pose_x_test - robot.x) ** 2 + (pose_y_test - robot.y) ** 2)\n",
    "    \n",
    "    def move_ray(self, step: float, x: float, y: float, angle: int):\n",
    "        return x + step * np.cos(angle * np.pi / 180), y + step * np.sin(angle * np.pi / 180)\n",
    "    \n",
    "    def check_ray_collision(self, test_map: Any, pose_x_test: int, pose_y_test: int):\n",
    "        if pose_y_test >= len(test_map) or pose_y_test < 0 or pose_x_test >= len(test_map[0]) or pose_x_test < 0 or test_map[int(pose_y_test) - 1][int(pose_x_test) - 1] == 0 or test_map[int(pose_y_test)][int(pose_x_test)] == 0 or test_map[int(pose_y_test) + 1][int(pose_x_test) + 1] == 0:\n",
    "            return True\n",
    "        return False\n",
    "\n",
    "    def measurements_draw_rays(self, robot: Robot, test_map: Any):\n",
    "        start = robot.theta - int(self.sensor_angle / 2)\n",
    "        end = robot.theta + int(self.sensor_angle / 2)\n",
    "        file.write('\\n\\t\\t\\tmeasurements\\n rayX, rayY, raylength, RayAngle \\n')\n",
    "        for angle in range(start, end + 1, self.sensor_resolution):\n",
    "            new_x, new_y = robot.x, robot.y\n",
    "            while (self.check_ray_collision(test_map, new_x, new_y)) is False and self.sense_destance(new_x, new_y, robot) <= self.max_range:\n",
    "                new_x, new_y = self.move_ray(1, new_x, new_y, angle)\n",
    "            cv.line(test_map, (robot.x, robot.y), (int(new_x), int(new_y)), 200, 2)\n",
    "            destance = -1\n",
    "            if self.sense_destance(new_x, new_y, robot) >= self.max_range:\n",
    "                self.z.append(1200)\n",
    "                destance = 1200\n",
    "            else:\n",
    "                self.z.append(self.sense_destance(new_x, new_y, robot) * 4)\n",
    "                destance = self.z[-1]\n",
    "            file.write(str(new_x) + ', ' + str(new_y) + ', ' + str(destance) + ', ' + str(angle) + '\\n')\n",
    "        return test_map"
   ]
  },
  {
   "cell_type": "code",
   "execution_count": 238,
   "metadata": {},
   "outputs": [],
   "source": [
    "\n",
    "test_map = cv.imread('Assignment_04_Grid_Map.png', cv.IMREAD_GRAYSCALE)\n",
    "file = open(\"output.txt\", \"w\")\n",
    "robot = Robot()\n",
    "robot.x, robot.y, robot.theta =  370, 182, 180\n",
    "file.write('RobotX, RobotY, RobotAngle\\n')\n",
    "file.write(str(robot.x) + ', ' + str(robot.y) + ', ' + str(robot.theta) + '\\n')\n",
    "sensor = Sensor()\n",
    "test_map_with_robot_and_rays = sensor.measurements_draw_rays(robot, test_map)\n",
    "test_map_with_robot_and_rays = robot.draw(test_map_with_robot_and_rays)\n",
    "file.close()\n",
    "x = cv.imwrite('output.png', test_map_with_robot_and_rays)\n"
   ]
  },
  {
   "cell_type": "code",
   "execution_count": 239,
   "metadata": {},
   "outputs": [],
   "source": [
    "class Proplem2():\n",
    "    def __init__(self, test_map: Any):\n",
    "        self.likelihood_field = cv.GaussianBlur(255 - test_map, (5, 5), 4)\n",
    "        self.propbability_map = np.zeros(shape=(len(test_map), len(test_map[0])))\n",
    "\n",
    "\n",
    "    def solve(self, test_map: Any, robot: Robot, sensor: Sensor):\n",
    "        x = cv.imwrite('likelihood_field.png', self.likelihood_field)\n",
    "        for y in range(0, self.likelihood_field.shape[0]):\n",
    "            for x in range(0, self.likelihood_field.shape[1]):\n",
    "                for angle in range(0, 360):\n",
    "                    start = robot.theta - int(sensor.sensor_angle / 2)\n",
    "                    end = robot.theta + int(sensor.sensor_angle / 2)\n",
    "                    index = 0\n",
    "                    prop = 1\n",
    "                    for rayAngle in range(start, end + 1, sensor.sensor_resolution):\n",
    "                        end_x, end_y = sensor.move_ray(sensor.z[index] / 4, x, y, rayAngle + angle)\n",
    "                        if sensor.z[index] >= 1200:\n",
    "                            continue\n",
    "                        if (end_y >= len(self.likelihood_field) or end_x >= len(self.likelihood_field[0]) or end_y < 0 or end_x < 0) == False:\n",
    "                            prop *= self.likelihood_field[int(end_y)][int(end_x)]\n",
    "                        else:\n",
    "                            prop *= 0.01\n",
    "                        index += 1\n",
    "                    self.propbability_map[y][x] = max(self.propbability_map[y][x], prop)\n",
    "        maximum = max(map(max, self.propbability_map))\n",
    "        position = -1, -1\n",
    "        x = cv.imwrite('prob_map.png', self.propbability_map) \n",
    "        if maximum > 0: \n",
    "            self.propbability_map = [[(x / maximum) * 255 for x in y] for y in self.propbability_map]\n",
    "            for y in range(len(self.propbability_map)):\n",
    "                for x in range(len(self.propbability_map[0])):\n",
    "                    if self.propbability_map[y][x] == 255:\n",
    "                        position = x, y \n",
    "        robot.x = position[0]\n",
    "        robot.y = position[1]\n",
    "        map_with_robot = robot.draw(test_map)\n",
    "        x = cv.imwrite('robot_pose.png', map_with_robot)"
   ]
  },
  {
   "cell_type": "code",
   "execution_count": 240,
   "metadata": {},
   "outputs": [
    {
     "name": "stdout",
     "output_type": "stream",
     "text": [
      "(400, 680)\n"
     ]
    },
    {
     "name": "stderr",
     "output_type": "stream",
     "text": [
      "/var/folders/0d/n2f4h4k56pqb06nysvwsmj_80000gn/T/ipykernel_49191/2465420350.py:22: RuntimeWarning: overflow encountered in long_scalars\n",
      "  prop *= self.likelihood_field[int(end_y)][int(end_x)]\n"
     ]
    }
   ],
   "source": [
    "test_map = cv.imread('Assignment_04_Grid_Map.png', cv.IMREAD_GRAYSCALE)\n",
    "problem2 = Proplem2(test_map)\n",
    "problem2.solve(test_map, robot, sensor)\n"
   ]
  }
 ],
 "metadata": {
  "interpreter": {
   "hash": "2c253219d76919bb22a14f551c90565ba722b1e6a2f0b60b013abed83a7af074"
  },
  "kernelspec": {
   "display_name": "Python 3.8.5 64-bit ('3.8.5')",
   "language": "python",
   "name": "python3"
  },
  "language_info": {
   "codemirror_mode": {
    "name": "ipython",
    "version": 3
   },
   "file_extension": ".py",
   "mimetype": "text/x-python",
   "name": "python",
   "nbconvert_exporter": "python",
   "pygments_lexer": "ipython3",
   "version": "3.8.5"
  },
  "orig_nbformat": 4
 },
 "nbformat": 4,
 "nbformat_minor": 2
}
